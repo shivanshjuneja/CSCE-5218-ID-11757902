{
  "cells": [
    {
      "cell_type": "markdown",
      "metadata": {
        "id": "vYiZq0X2oB5t"
      },
      "source": [
        "# **CSCE 5218 / CSCE 4930 Deep Learning**\n",
        "\n",
        "# **The Perceptron** (20 pt)\n"
      ]
    },
    {
      "cell_type": "code",
      "execution_count": 19,
      "metadata": {
        "colab": {
          "base_uri": "https://localhost:8080/"
        },
        "id": "vGVmKzgG2Ium",
        "outputId": "7e05acdb-209b-427d-9bb0-651c2e868eca"
      },
      "outputs": [
        {
          "name": "stderr",
          "output_type": "stream",
          "text": [
            "  % Total    % Received % Xferd  Average Speed   Time    Time     Time  Current\n",
            "                                 Dload  Upload   Total   Spent    Left  Speed\n",
            "\n",
            "  0     0    0     0    0     0      0      0 --:--:-- --:--:-- --:--:--     0\n",
            "100   136  100   136    0     0   1252      0 --:--:-- --:--:-- --:--:--  1320\n",
            "  % Total    % Received % Xferd  Average Speed   Time    Time     Time  Current\n",
            "                                 Dload  Upload   Total   Spent    Left  Speed\n",
            "\n",
            "  0     0    0     0    0     0      0      0 --:--:-- --:--:-- --:--:--     0\n",
            "100 11645  100 11645    0     0   117k      0 --:--:-- --:--:-- --:--:--  122k\n"
          ]
        }
      ],
      "source": [
        "# Get the datasets\n",
        "!curl --output test.dat https://raw.githubusercontent.com/huangyanann/CSCE5218/main/test_small.txt\n",
        "!curl --output train.dat https://raw.githubusercontent.com/huangyanann/CSCE5218/main/train.txt"
      ]
    },
    {
      "cell_type": "code",
      "execution_count": 20,
      "metadata": {},
      "outputs": [],
      "source": [
        "import math\n",
        "import itertools\n",
        "import re\n",
        "\n",
        "\n",
        "# Corpus reader, all columns but the last one are coordinates;\n",
        "#   the last column is the label\n",
        "def read_data(file_name):\n",
        "    f = open(file_name, 'r')\n",
        "\n",
        "    data = []\n",
        "    # Discard header line\n",
        "    f.readline()\n",
        "    for instance in f.readlines():\n",
        "        if not re.search('\\t', instance): continue\n",
        "        instance = list(map(int, instance.strip().split('\\t')))\n",
        "        # Add a dummy input so that w0 becomes the bias\n",
        "        instance = [-1] + instance\n",
        "        data += [instance]\n",
        "    return data"
      ]
    },
    {
      "cell_type": "code",
      "execution_count": 21,
      "metadata": {
        "colab": {
          "base_uri": "https://localhost:8080/"
        },
        "id": "A69DxPSc8vNs",
        "outputId": "9cd3ccfd-1728-4ab7-d372-66be0e6c2ed0"
      },
      "outputs": [
        {
          "name": "stdout",
          "output_type": "stream",
          "text": [
            "[-1, 1, 1, 0, 0, 0, 0, 0, 0, 1, 1, 0, 0, 1, 0]\n",
            "[-1, 0, 0, 1, 1, 0, 1, 1, 0, 0, 0, 0, 0, 1, 0]\n",
            "[-1, 0, 1, 0, 1, 1, 0, 1, 0, 1, 1, 1, 0, 1, 1]\n",
            "[-1, 0, 0, 1, 0, 0, 1, 0, 1, 0, 1, 1, 1, 1, 0]\n",
            "[-1, 0, 1, 0, 0, 0, 0, 0, 1, 1, 1, 1, 1, 1, 0]\n",
            "[-1, 0, 1, 1, 1, 0, 0, 0, 1, 0, 1, 1, 0, 1, 1]\n",
            "[-1, 0, 1, 1, 0, 0, 0, 1, 0, 0, 0, 0, 0, 1, 0]\n",
            "[-1, 0, 0, 0, 1, 1, 0, 1, 1, 1, 0, 0, 0, 1, 0]\n",
            "[-1, 0, 0, 0, 0, 0, 0, 1, 0, 1, 0, 1, 0, 1, 0]\n",
            "[-1, 1, 0, 1, 1, 1, 0, 0, 0, 1, 1, 1, 0, 1, 1]\n",
            "[-1, 1, 1, 1, 1]\n",
            "[-1, 0, 0, 1, 1]\n",
            "[-1, 0, 1, 1, 0]\n",
            "[-1, 0, 1, 1, 0]\n",
            "[-1, 0, 1, 1, 0]\n",
            "[-1, 0, 1, 1, 0]\n",
            "[-1, 0, 1, 1, 0]\n",
            "[-1, 0, 1, 1, 0]\n",
            "[-1, 1, 1, 1, 1]\n",
            "[-1, 1, 0, 1, 0]\n"
          ]
        }
      ],
      "source": [
        "# Take a peek at the datasets\n",
        "print(*read_data('train.dat')[:10],sep='\\n')\n",
        "print(*read_data('test.dat')[:10],sep='\\n')"
      ]
    },
    {
      "cell_type": "markdown",
      "metadata": {
        "id": "rFXHLhnhwiBR"
      },
      "source": [
        "### Build the Perceptron Model\n",
        "\n",
        "You will need to complete some of the function definitions below.  DO NOT import any other libraries to complete this."
      ]
    },
    {
      "cell_type": "code",
      "execution_count": 22,
      "metadata": {
        "id": "cXAsP_lw3QwJ"
      },
      "outputs": [],
      "source": [
        "def dot_product(array1, array2):\n",
        "    #TODO: Return dot product of array 1 and array 2\n",
        "    return sum(x*y for x,y in zip(array1,array2))\n",
        "\n",
        "\n",
        "def sigmoid(x):\n",
        "    #TODO: Return outpout of sigmoid function on x\n",
        "    return 1/(1+math.exp(-x))\n",
        "\n",
        "# The output of the model, which for the perceptron is\n",
        "# the sigmoid function applied to the dot product of\n",
        "# the instance and the weights\n",
        "def output(weight, instance):\n",
        "    #TODO: return the output of the model\n",
        "    return sigmoid(dot_product(weight,instance))\n",
        "\n",
        "# Predict the label of an instance; this is the definition of the perceptron\n",
        "# you should output 1 if the output is >= 0.5 else output 0\n",
        "def predict(weights, instance):\n",
        "    #TODO: return the prediction of the model\n",
        "    return int(output(weights,instance)>=0.5)\n",
        "\n",
        "\n",
        "# Accuracy = percent of correct predictions\n",
        "def get_accuracy(weights, instances):\n",
        "    # You do not to write code like this, but get used to it\n",
        "    correct = sum([1 if predict(weights, instance) == instance[-1] else 0\n",
        "                   for instance in instances])\n",
        "    return correct * 100 / len(instances)\n",
        "\n",
        "\n",
        "# Train a perceptron with instances and hyperparameters:\n",
        "#       lr (learning rate)\n",
        "#       epochs\n",
        "# The implementation comes from the definition of the perceptron\n",
        "#\n",
        "# Training consists on fitting the parameters which are the weights\n",
        "# that's the only thing training is responsible to fit\n",
        "# (recall that w0 is the bias, and w1..wn are the weights for each coordinate)\n",
        "#\n",
        "# Hyperparameters (lr and epochs) are given to the training algorithm\n",
        "# We are updating weights in the opposite direction of the gradient of the error,\n",
        "# so with a \"decent\" lr we are guaranteed to reduce the error after each iteration.\n",
        "def train_perceptron(instances, lr, epochs):\n",
        "\n",
        "    #TODO: name this step\n",
        "    # Initialization\n",
        "    weights = [0] * (len(instances[0])-1)\n",
        "\n",
        "    for _ in range(epochs):\n",
        "        for instance in instances:\n",
        "            #TODO: name these steps\n",
        "            # Error Calculation based on Current Weights\n",
        "            in_value = dot_product(weights, instance)\n",
        "            output = sigmoid(in_value)\n",
        "            error = instance[-1] - output\n",
        "            #TODO: name these steps\n",
        "            # Weight Updation\n",
        "            for i in range(0, len(weights)):\n",
        "                weights[i] += lr * error * output * (1-output) * instance[i]\n",
        "\n",
        "    return weights"
      ]
    },
    {
      "cell_type": "markdown",
      "metadata": {
        "id": "adBZuMlAwiBT"
      },
      "source": [
        "## Run it"
      ]
    },
    {
      "cell_type": "code",
      "execution_count": 23,
      "metadata": {
        "colab": {
          "base_uri": "https://localhost:8080/"
        },
        "id": "50YvUza-BYQF",
        "outputId": "7fc68ed7-0457-4523-b0bc-5dac867964ae"
      },
      "outputs": [
        {
          "name": "stdout",
          "output_type": "stream",
          "text": [
            "#tr: 400, epochs:   5, learning rate: 0.005; Accuracy (test, 14 instances): 71.4\n"
          ]
        }
      ],
      "source": [
        "instances_tr = read_data(\"train.dat\")\n",
        "instances_te = read_data(\"test.dat\")\n",
        "lr = 0.005\n",
        "epochs = 5\n",
        "weights = train_perceptron(instances_tr, lr, epochs)\n",
        "accuracy = get_accuracy(weights, instances_te)\n",
        "print(f\"#tr: {len(instances_tr):3}, epochs: {epochs:3}, learning rate: {lr:.3f}; \"\n",
        "      f\"Accuracy (test, {len(instances_te)} instances): {accuracy:.1f}\")"
      ]
    },
    {
      "cell_type": "markdown",
      "metadata": {
        "id": "CBXkvaiQMohX"
      },
      "source": [
        "## Questions\n",
        "\n",
        "Answer the following questions. Include your implementation and the output for each question."
      ]
    },
    {
      "cell_type": "markdown",
      "metadata": {
        "id": "YCQ6BEk1CBlr"
      },
      "source": [
        "\n",
        "\n",
        "### Question 1\n",
        "\n",
        "In `train_perceptron(instances, lr, epochs)`, we have the follosing code:\n",
        "```\n",
        "in_value = dot_product(weights, instance)\n",
        "output = sigmoid(in_value)\n",
        "error = instance[-1] - output\n",
        "```\n",
        "\n",
        "Why don't we have the following code snippet instead?\n",
        "```\n",
        "output = predict(weights, instance)\n",
        "error = instance[-1] - output\n",
        "```\n",
        "\n",
        "#### TODO Add your answer here (text only)\n",
        "\n",
        "\n"
      ]
    },
    {
      "cell_type": "markdown",
      "metadata": {
        "id": "8a5tAEcC665N"
      },
      "source": [
        "Using predict results in 2 discrete values 0 and 1, but the actual output of the perceptron may be any value between these two values. When we train the model we need the actual output values before thresholding as they give a better indication of how different the output is from the actual value. This also helps adjust weights gradually which makes the process more stable and prevents overshooting."
      ]
    },
    {
      "cell_type": "markdown",
      "metadata": {
        "id": "JU3c3m6YL2rK"
      },
      "source": [
        "### Question 2\n",
        "Train the perceptron with the following hyperparameters and calculate the accuracy with the test dataset.\n",
        "\n",
        "```\n",
        "tr_percent = [5, 10, 25, 50, 75, 100] # percent of the training dataset to train with\n",
        "num_epochs = [5, 10, 20, 50, 100]              # number of epochs\n",
        "lr = [0.005, 0.01, 0.05]              # learning rate\n",
        "```\n",
        "\n",
        "TODO: Write your code below and include the output at the end of each training loop (NOT AFTER EACH EPOCH)\n",
        "of your code.The output should look like the following:\n",
        "```\n",
        "# tr:  20, epochs:   5, learning rate: 0.005; Accuracy (test, 100 instances): 68.0\n",
        "# tr:  20, epochs:  10, learning rate: 0.005; Accuracy (test, 100 instances): 68.0\n",
        "# tr:  20, epochs:  20, learning rate: 0.005; Accuracy (test, 100 instances): 68.0\n",
        "[and so on for all the combinations]\n",
        "```\n",
        "You will get different results with different hyperparameters.\n",
        "\n",
        "#### TODO Add your answer here (code and output in the format above)\n"
      ]
    },
    {
      "cell_type": "code",
      "execution_count": 24,
      "metadata": {
        "colab": {
          "base_uri": "https://localhost:8080/"
        },
        "id": "gLirbMOL69sx",
        "outputId": "d9dce0b5-9b97-4006-f854-e7cd41ef1f41"
      },
      "outputs": [
        {
          "name": "stdout",
          "output_type": "stream",
          "text": [
            "# tr:  20, epochs:   5, learning rate: 0.005; Accuracy (test, 14 instances): 71.4\n",
            "# tr:  20, epochs:  10, learning rate: 0.005; Accuracy (test, 14 instances): 71.4\n",
            "# tr:  20, epochs:  20, learning rate: 0.005; Accuracy (test, 14 instances): 71.4\n",
            "# tr:  20, epochs:  50, learning rate: 0.005; Accuracy (test, 14 instances): 71.4\n",
            "# tr:  20, epochs: 100, learning rate: 0.005; Accuracy (test, 14 instances): 85.7\n",
            "# tr:  20, epochs:   5, learning rate: 0.010; Accuracy (test, 14 instances): 71.4\n",
            "# tr:  20, epochs:  10, learning rate: 0.010; Accuracy (test, 14 instances): 71.4\n",
            "# tr:  20, epochs:  20, learning rate: 0.010; Accuracy (test, 14 instances): 71.4\n",
            "# tr:  20, epochs:  50, learning rate: 0.010; Accuracy (test, 14 instances): 85.7\n",
            "# tr:  20, epochs: 100, learning rate: 0.010; Accuracy (test, 14 instances): 42.9\n",
            "# tr:  20, epochs:   5, learning rate: 0.050; Accuracy (test, 14 instances): 71.4\n",
            "# tr:  20, epochs:  10, learning rate: 0.050; Accuracy (test, 14 instances): 85.7\n",
            "# tr:  20, epochs:  20, learning rate: 0.050; Accuracy (test, 14 instances): 42.9\n",
            "# tr:  20, epochs:  50, learning rate: 0.050; Accuracy (test, 14 instances): 42.9\n",
            "# tr:  20, epochs: 100, learning rate: 0.050; Accuracy (test, 14 instances): 42.9\n",
            "# tr:  40, epochs:   5, learning rate: 0.005; Accuracy (test, 14 instances): 71.4\n",
            "# tr:  40, epochs:  10, learning rate: 0.005; Accuracy (test, 14 instances): 71.4\n",
            "# tr:  40, epochs:  20, learning rate: 0.005; Accuracy (test, 14 instances): 71.4\n",
            "# tr:  40, epochs:  50, learning rate: 0.005; Accuracy (test, 14 instances): 71.4\n",
            "# tr:  40, epochs: 100, learning rate: 0.005; Accuracy (test, 14 instances): 71.4\n",
            "# tr:  40, epochs:   5, learning rate: 0.010; Accuracy (test, 14 instances): 71.4\n",
            "# tr:  40, epochs:  10, learning rate: 0.010; Accuracy (test, 14 instances): 71.4\n",
            "# tr:  40, epochs:  20, learning rate: 0.010; Accuracy (test, 14 instances): 71.4\n",
            "# tr:  40, epochs:  50, learning rate: 0.010; Accuracy (test, 14 instances): 71.4\n",
            "# tr:  40, epochs: 100, learning rate: 0.010; Accuracy (test, 14 instances): 85.7\n",
            "# tr:  40, epochs:   5, learning rate: 0.050; Accuracy (test, 14 instances): 71.4\n",
            "# tr:  40, epochs:  10, learning rate: 0.050; Accuracy (test, 14 instances): 71.4\n",
            "# tr:  40, epochs:  20, learning rate: 0.050; Accuracy (test, 14 instances): 71.4\n",
            "# tr:  40, epochs:  50, learning rate: 0.050; Accuracy (test, 14 instances): 28.6\n",
            "# tr:  40, epochs: 100, learning rate: 0.050; Accuracy (test, 14 instances): 42.9\n",
            "# tr: 100, epochs:   5, learning rate: 0.005; Accuracy (test, 14 instances): 71.4\n",
            "# tr: 100, epochs:  10, learning rate: 0.005; Accuracy (test, 14 instances): 71.4\n",
            "# tr: 100, epochs:  20, learning rate: 0.005; Accuracy (test, 14 instances): 71.4\n",
            "# tr: 100, epochs:  50, learning rate: 0.005; Accuracy (test, 14 instances): 71.4\n",
            "# tr: 100, epochs: 100, learning rate: 0.005; Accuracy (test, 14 instances): 71.4\n",
            "# tr: 100, epochs:   5, learning rate: 0.010; Accuracy (test, 14 instances): 71.4\n",
            "# tr: 100, epochs:  10, learning rate: 0.010; Accuracy (test, 14 instances): 71.4\n",
            "# tr: 100, epochs:  20, learning rate: 0.010; Accuracy (test, 14 instances): 71.4\n",
            "# tr: 100, epochs:  50, learning rate: 0.010; Accuracy (test, 14 instances): 71.4\n",
            "# tr: 100, epochs: 100, learning rate: 0.010; Accuracy (test, 14 instances): 28.6\n",
            "# tr: 100, epochs:   5, learning rate: 0.050; Accuracy (test, 14 instances): 71.4\n",
            "# tr: 100, epochs:  10, learning rate: 0.050; Accuracy (test, 14 instances): 71.4\n",
            "# tr: 100, epochs:  20, learning rate: 0.050; Accuracy (test, 14 instances): 28.6\n",
            "# tr: 100, epochs:  50, learning rate: 0.050; Accuracy (test, 14 instances): 28.6\n",
            "# tr: 100, epochs: 100, learning rate: 0.050; Accuracy (test, 14 instances): 28.6\n",
            "# tr: 200, epochs:   5, learning rate: 0.005; Accuracy (test, 14 instances): 71.4\n",
            "# tr: 200, epochs:  10, learning rate: 0.005; Accuracy (test, 14 instances): 71.4\n",
            "# tr: 200, epochs:  20, learning rate: 0.005; Accuracy (test, 14 instances): 71.4\n",
            "# tr: 200, epochs:  50, learning rate: 0.005; Accuracy (test, 14 instances): 85.7\n",
            "# tr: 200, epochs: 100, learning rate: 0.005; Accuracy (test, 14 instances): 85.7\n",
            "# tr: 200, epochs:   5, learning rate: 0.010; Accuracy (test, 14 instances): 71.4\n",
            "# tr: 200, epochs:  10, learning rate: 0.010; Accuracy (test, 14 instances): 71.4\n",
            "# tr: 200, epochs:  20, learning rate: 0.010; Accuracy (test, 14 instances): 71.4\n",
            "# tr: 200, epochs:  50, learning rate: 0.010; Accuracy (test, 14 instances): 85.7\n",
            "# tr: 200, epochs: 100, learning rate: 0.010; Accuracy (test, 14 instances): 85.7\n",
            "# tr: 200, epochs:   5, learning rate: 0.050; Accuracy (test, 14 instances): 85.7\n",
            "# tr: 200, epochs:  10, learning rate: 0.050; Accuracy (test, 14 instances): 85.7\n",
            "# tr: 200, epochs:  20, learning rate: 0.050; Accuracy (test, 14 instances): 85.7\n",
            "# tr: 200, epochs:  50, learning rate: 0.050; Accuracy (test, 14 instances): 85.7\n",
            "# tr: 200, epochs: 100, learning rate: 0.050; Accuracy (test, 14 instances): 85.7\n",
            "# tr: 300, epochs:   5, learning rate: 0.005; Accuracy (test, 14 instances): 71.4\n",
            "# tr: 300, epochs:  10, learning rate: 0.005; Accuracy (test, 14 instances): 71.4\n",
            "# tr: 300, epochs:  20, learning rate: 0.005; Accuracy (test, 14 instances): 71.4\n",
            "# tr: 300, epochs:  50, learning rate: 0.005; Accuracy (test, 14 instances): 71.4\n",
            "# tr: 300, epochs: 100, learning rate: 0.005; Accuracy (test, 14 instances): 85.7\n",
            "# tr: 300, epochs:   5, learning rate: 0.010; Accuracy (test, 14 instances): 71.4\n",
            "# tr: 300, epochs:  10, learning rate: 0.010; Accuracy (test, 14 instances): 71.4\n",
            "# tr: 300, epochs:  20, learning rate: 0.010; Accuracy (test, 14 instances): 71.4\n",
            "# tr: 300, epochs:  50, learning rate: 0.010; Accuracy (test, 14 instances): 85.7\n",
            "# tr: 300, epochs: 100, learning rate: 0.010; Accuracy (test, 14 instances): 85.7\n",
            "# tr: 300, epochs:   5, learning rate: 0.050; Accuracy (test, 14 instances): 71.4\n",
            "# tr: 300, epochs:  10, learning rate: 0.050; Accuracy (test, 14 instances): 85.7\n",
            "# tr: 300, epochs:  20, learning rate: 0.050; Accuracy (test, 14 instances): 85.7\n",
            "# tr: 300, epochs:  50, learning rate: 0.050; Accuracy (test, 14 instances): 85.7\n",
            "# tr: 300, epochs: 100, learning rate: 0.050; Accuracy (test, 14 instances): 85.7\n",
            "# tr: 400, epochs:   5, learning rate: 0.005; Accuracy (test, 14 instances): 71.4\n",
            "# tr: 400, epochs:  10, learning rate: 0.005; Accuracy (test, 14 instances): 71.4\n",
            "# tr: 400, epochs:  20, learning rate: 0.005; Accuracy (test, 14 instances): 71.4\n",
            "# tr: 400, epochs:  50, learning rate: 0.005; Accuracy (test, 14 instances): 71.4\n",
            "# tr: 400, epochs: 100, learning rate: 0.005; Accuracy (test, 14 instances): 71.4\n",
            "# tr: 400, epochs:   5, learning rate: 0.010; Accuracy (test, 14 instances): 71.4\n",
            "# tr: 400, epochs:  10, learning rate: 0.010; Accuracy (test, 14 instances): 71.4\n",
            "# tr: 400, epochs:  20, learning rate: 0.010; Accuracy (test, 14 instances): 71.4\n",
            "# tr: 400, epochs:  50, learning rate: 0.010; Accuracy (test, 14 instances): 71.4\n",
            "# tr: 400, epochs: 100, learning rate: 0.010; Accuracy (test, 14 instances): 71.4\n",
            "# tr: 400, epochs:   5, learning rate: 0.050; Accuracy (test, 14 instances): 71.4\n",
            "# tr: 400, epochs:  10, learning rate: 0.050; Accuracy (test, 14 instances): 71.4\n",
            "# tr: 400, epochs:  20, learning rate: 0.050; Accuracy (test, 14 instances): 71.4\n",
            "# tr: 400, epochs:  50, learning rate: 0.050; Accuracy (test, 14 instances): 71.4\n",
            "# tr: 400, epochs: 100, learning rate: 0.050; Accuracy (test, 14 instances): 71.4\n"
          ]
        }
      ],
      "source": [
        "instances_tr = read_data(\"train.dat\")\n",
        "instances_te = read_data(\"test.dat\")\n",
        "tr_percent = [5, 10, 25, 50, 75, 100]  # percent of the training dataset to train with\n",
        "num_epochs = [5, 10, 20, 50, 100]  # number of epochs\n",
        "lr_values = [0.005, 0.01, 0.05]  # learning rate\n",
        "\n",
        "for size in tr_percent:\n",
        "    instances=instances_tr[:len(instances_tr*size)//100]\n",
        "    for lr in lr_values:\n",
        "        for epochs in num_epochs:\n",
        "            weights = train_perceptron(instances, lr, epochs)\n",
        "            accuracy = get_accuracy(weights, instances_te)\n",
        "            print(f\"# tr: {len(instances):3}, epochs: {epochs:3}, learning rate: {lr:.3f}; \"\n",
        "                  f\"Accuracy (test, {len(instances_te)} instances): {accuracy:.1f}\")"
      ]
    },
    {
      "cell_type": "markdown",
      "metadata": {
        "id": "OFB9MtwML24O"
      },
      "source": [
        "### Question 3\n",
        "Write a couple paragraphs interpreting the results with all the combinations of hyperparameters. Drawing a plot will probably help you make a point. In particular, answer the following:\n",
        "- A. Do you need to train with all the training dataset to get the highest accuracy with the test dataset?\n",
        "- B. How do you justify that training the second run obtains worse accuracy than the first one (despite the second one uses more training data)?\n",
        "   ```\n",
        "#tr: 100, epochs:  20, learning rate: 0.050; Accuracy (test, 100 instances): 71.0\n",
        "#tr: 200, epochs:  20, learning rate: 0.005; Accuracy (test, 100 instances): 68.0\n",
        "```\n",
        "- C. Can you get higher accuracy with additional hyperparameters (higher than `80.0`)?\n",
        "- D. Is it always worth training for more epochs (while keeping all other hyperparameters fixed)?\n",
        "\n",
        "#### TODO: Add your answer here (code and text)\n",
        "\n"
      ]
    },
    {
      "cell_type": "markdown",
      "metadata": {
        "id": "38rA_Kp3wiBX"
      },
      "source": []
    }
  ],
  "metadata": {
    "accelerator": "GPU",
    "colab": {
      "provenance": []
    },
    "kernelspec": {
      "display_name": "Python 3",
      "name": "python3"
    },
    "language_info": {
      "codemirror_mode": {
        "name": "ipython",
        "version": 3
      },
      "file_extension": ".py",
      "mimetype": "text/x-python",
      "name": "python",
      "nbconvert_exporter": "python",
      "pygments_lexer": "ipython3",
      "version": "3.10.8"
    }
  },
  "nbformat": 4,
  "nbformat_minor": 0
}
